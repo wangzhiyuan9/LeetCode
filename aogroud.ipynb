{
 "cells": [
  {
   "cell_type": "code",
   "execution_count": 1,
   "source": [
    "def split_data(path,size):\r\n",
    "    import pandas as pd \r\n",
    "    import numpy as np\r\n",
    "    data = pd.read_excel(path,header=None)\r\n",
    "    data['sort'] = np.random.rand(data.size)\r\n",
    "    data = data.sort_values(by='sort').reset_index()[[0]]\r\n",
    "    head = 'https://www.bing.com/search?q='\r\n",
    "    data[0] = data[0].apply(lambda x:head+x)\r\n",
    "    low = 0\r\n",
    "    for i in range(1,size[2]//2+1):\r\n",
    "        data[low:low+size[0]].to_csv('./output/{}.txt'.format(i*2-1),header=None,index=None)\r\n",
    "        low+=size[0]\r\n",
    "        if i*2 == size[2]:\r\n",
    "            data[low:].to_csv('./output/{}.txt'.format(i*2),header=None,index=None)\r\n",
    "        else:\r\n",
    "            data[low:low+size[1]].to_csv('./output/{}.txt'.format(i*2),header=None,index=None)\r\n",
    "            low+=size[1]"
   ],
   "outputs": [],
   "metadata": {}
  },
  {
   "cell_type": "code",
   "execution_count": 2,
   "source": [
    "paths = 'F:\\洗衣类关键词语种集合\\洗衣类英语关键词.xlsx'\r\n",
    "sizes=[20000,20000,20]\r\n",
    "split_data(paths,sizes)"
   ],
   "outputs": [],
   "metadata": {}
  }
 ],
 "metadata": {
  "orig_nbformat": 4,
  "language_info": {
   "name": "python",
   "version": "3.8.10",
   "mimetype": "text/x-python",
   "codemirror_mode": {
    "name": "ipython",
    "version": 3
   },
   "pygments_lexer": "ipython3",
   "nbconvert_exporter": "python",
   "file_extension": ".py"
  },
  "kernelspec": {
   "name": "python3",
   "display_name": "Python 3.8.10 64-bit (system)"
  },
  "interpreter": {
   "hash": "2e86ad2353955815dc1da4952baefd30346f516979aee9668e2fffcdf0c730d7"
  }
 },
 "nbformat": 4,
 "nbformat_minor": 2
}