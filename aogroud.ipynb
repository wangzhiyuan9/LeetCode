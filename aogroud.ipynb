{
 "cells": [
  {
   "cell_type": "code",
   "execution_count": 1,
   "source": [
    "# 划分数据集\r\n",
    "from Aogroud import aogroud\r\n",
    "paths = 'F:/洗衣类关键词语种集合/洗衣类阿拉伯.xlsx'\r\n",
    "sizes=[20000,21000,18]\r\n",
    "aogroud().split_data(paths,sizes)"
   ],
   "outputs": [],
   "metadata": {}
  },
  {
   "cell_type": "code",
   "execution_count": 2,
   "source": [
    "# 创建目录\r\n",
    "from Aogroud import aogroud\r\n",
    "aogroud().make_dir(10)"
   ],
   "outputs": [],
   "metadata": {}
  },
  {
   "cell_type": "code",
   "execution_count": null,
   "source": [
    "# 更改文件名\r\n",
    "from Aogroud import aogroud\r\n",
    "aogroud().rename_dir()"
   ],
   "outputs": [],
   "metadata": {}
  },
  {
   "cell_type": "code",
   "execution_count": null,
   "source": [
    "# 移动数据文件\r\n",
    "from Aogroud import aogroud\r\n",
    "aogroud().move_file(46,65)"
   ],
   "outputs": [],
   "metadata": {}
  }
 ],
 "metadata": {
  "orig_nbformat": 4,
  "language_info": {
   "name": "python",
   "version": "3.8.10",
   "mimetype": "text/x-python",
   "codemirror_mode": {
    "name": "ipython",
    "version": 3
   },
   "pygments_lexer": "ipython3",
   "nbconvert_exporter": "python",
   "file_extension": ".py"
  },
  "kernelspec": {
   "name": "python3",
   "display_name": "Python 3.8.10 64-bit (system)"
  },
  "interpreter": {
   "hash": "2e86ad2353955815dc1da4952baefd30346f516979aee9668e2fffcdf0c730d7"
  }
 },
 "nbformat": 4,
 "nbformat_minor": 2
}