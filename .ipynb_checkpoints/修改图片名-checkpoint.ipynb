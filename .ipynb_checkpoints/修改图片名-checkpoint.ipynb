{
 "cells": [
  {
   "cell_type": "code",
   "execution_count": null,
   "source": [
    "import os\r\n",
    "file_name='C:\\\\Users\\\\2021450\\\\Desktop\\\\手套图片'\r\n",
    "list_,k = os.listdir(file_name),1\r\n",
    "for i in list_:\r\n",
    "    name = str(k)+'.jpg'\r\n",
    "    k = k + 1\r\n",
    "    os.rename(file_name+'\\\\'+i,file_name+'\\\\'+name)"
   ],
   "outputs": [],
   "metadata": {}
  }
 ],
 "metadata": {
  "kernelspec": {
   "name": "python3",
   "display_name": "Python 3.8.10 64-bit (system)"
  },
  "language_info": {
   "codemirror_mode": {
    "name": "ipython",
    "version": 3
   },
   "file_extension": ".py",
   "mimetype": "text/x-python",
   "name": "python",
   "nbconvert_exporter": "python",
   "pygments_lexer": "ipython3",
   "version": "3.8.10"
  },
  "interpreter": {
   "hash": "2e86ad2353955815dc1da4952baefd30346f516979aee9668e2fffcdf0c730d7"
  }
 },
 "nbformat": 4,
 "nbformat_minor": 5
}